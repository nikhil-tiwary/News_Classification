{
 "cells": [
  {
   "cell_type": "code",
   "execution_count": 2,
   "id": "7d9a9950",
   "metadata": {},
   "outputs": [],
   "source": [
    "import gensim.downloader as api\n",
    "\n",
    "wv = api.load(\"word2vec-google-news-300\")\n"
   ]
  },
  {
   "cell_type": "code",
   "execution_count": 3,
   "id": "2435ea92",
   "metadata": {},
   "outputs": [
    {
     "data": {
      "text/plain": [
       "0.729151"
      ]
     },
     "execution_count": 3,
     "metadata": {},
     "output_type": "execute_result"
    }
   ],
   "source": [
    "wv.similarity(w1='great',w2='good')"
   ]
  },
  {
   "cell_type": "code",
   "execution_count": 5,
   "id": "3902c7ce",
   "metadata": {},
   "outputs": [
    {
     "data": {
      "text/plain": [
       "(9900, 2)"
      ]
     },
     "execution_count": 5,
     "metadata": {},
     "output_type": "execute_result"
    }
   ],
   "source": [
    "import pandas as pd\n",
    "import numpy as np\n",
    "\n",
    "df = pd.read_csv(\"fake_and_real_news.csv\")\n",
    "\n",
    "df.shape"
   ]
  },
  {
   "cell_type": "code",
   "execution_count": 6,
   "id": "8ff243a6",
   "metadata": {},
   "outputs": [
    {
     "data": {
      "text/html": [
       "<div>\n",
       "<style scoped>\n",
       "    .dataframe tbody tr th:only-of-type {\n",
       "        vertical-align: middle;\n",
       "    }\n",
       "\n",
       "    .dataframe tbody tr th {\n",
       "        vertical-align: top;\n",
       "    }\n",
       "\n",
       "    .dataframe thead th {\n",
       "        text-align: right;\n",
       "    }\n",
       "</style>\n",
       "<table border=\"1\" class=\"dataframe\">\n",
       "  <thead>\n",
       "    <tr style=\"text-align: right;\">\n",
       "      <th></th>\n",
       "      <th>Text</th>\n",
       "      <th>label</th>\n",
       "    </tr>\n",
       "  </thead>\n",
       "  <tbody>\n",
       "    <tr>\n",
       "      <th>0</th>\n",
       "      <td>Top Trump Surrogate BRUTALLY Stabs Him In The...</td>\n",
       "      <td>Fake</td>\n",
       "    </tr>\n",
       "    <tr>\n",
       "      <th>1</th>\n",
       "      <td>U.S. conservative leader optimistic of common ...</td>\n",
       "      <td>Real</td>\n",
       "    </tr>\n",
       "    <tr>\n",
       "      <th>2</th>\n",
       "      <td>Trump proposes U.S. tax overhaul, stirs concer...</td>\n",
       "      <td>Real</td>\n",
       "    </tr>\n",
       "    <tr>\n",
       "      <th>3</th>\n",
       "      <td>Court Forces Ohio To Allow Millions Of Illega...</td>\n",
       "      <td>Fake</td>\n",
       "    </tr>\n",
       "    <tr>\n",
       "      <th>4</th>\n",
       "      <td>Democrats say Trump agrees to work on immigrat...</td>\n",
       "      <td>Real</td>\n",
       "    </tr>\n",
       "  </tbody>\n",
       "</table>\n",
       "</div>"
      ],
      "text/plain": [
       "                                                Text label\n",
       "0   Top Trump Surrogate BRUTALLY Stabs Him In The...  Fake\n",
       "1  U.S. conservative leader optimistic of common ...  Real\n",
       "2  Trump proposes U.S. tax overhaul, stirs concer...  Real\n",
       "3   Court Forces Ohio To Allow Millions Of Illega...  Fake\n",
       "4  Democrats say Trump agrees to work on immigrat...  Real"
      ]
     },
     "execution_count": 6,
     "metadata": {},
     "output_type": "execute_result"
    }
   ],
   "source": [
    "df.head()"
   ]
  },
  {
   "cell_type": "code",
   "execution_count": 7,
   "id": "06a6e7a4",
   "metadata": {},
   "outputs": [
    {
     "data": {
      "text/plain": [
       "Fake    5000\n",
       "Real    4900\n",
       "Name: label, dtype: int64"
      ]
     },
     "execution_count": 7,
     "metadata": {},
     "output_type": "execute_result"
    }
   ],
   "source": [
    "df.label.value_counts()"
   ]
  },
  {
   "cell_type": "code",
   "execution_count": 8,
   "id": "5be6acbb",
   "metadata": {},
   "outputs": [
    {
     "data": {
      "text/html": [
       "<div>\n",
       "<style scoped>\n",
       "    .dataframe tbody tr th:only-of-type {\n",
       "        vertical-align: middle;\n",
       "    }\n",
       "\n",
       "    .dataframe tbody tr th {\n",
       "        vertical-align: top;\n",
       "    }\n",
       "\n",
       "    .dataframe thead th {\n",
       "        text-align: right;\n",
       "    }\n",
       "</style>\n",
       "<table border=\"1\" class=\"dataframe\">\n",
       "  <thead>\n",
       "    <tr style=\"text-align: right;\">\n",
       "      <th></th>\n",
       "      <th>Text</th>\n",
       "      <th>label</th>\n",
       "      <th>label_num</th>\n",
       "    </tr>\n",
       "  </thead>\n",
       "  <tbody>\n",
       "    <tr>\n",
       "      <th>0</th>\n",
       "      <td>Top Trump Surrogate BRUTALLY Stabs Him In The...</td>\n",
       "      <td>Fake</td>\n",
       "      <td>0</td>\n",
       "    </tr>\n",
       "    <tr>\n",
       "      <th>1</th>\n",
       "      <td>U.S. conservative leader optimistic of common ...</td>\n",
       "      <td>Real</td>\n",
       "      <td>1</td>\n",
       "    </tr>\n",
       "    <tr>\n",
       "      <th>2</th>\n",
       "      <td>Trump proposes U.S. tax overhaul, stirs concer...</td>\n",
       "      <td>Real</td>\n",
       "      <td>1</td>\n",
       "    </tr>\n",
       "    <tr>\n",
       "      <th>3</th>\n",
       "      <td>Court Forces Ohio To Allow Millions Of Illega...</td>\n",
       "      <td>Fake</td>\n",
       "      <td>0</td>\n",
       "    </tr>\n",
       "    <tr>\n",
       "      <th>4</th>\n",
       "      <td>Democrats say Trump agrees to work on immigrat...</td>\n",
       "      <td>Real</td>\n",
       "      <td>1</td>\n",
       "    </tr>\n",
       "  </tbody>\n",
       "</table>\n",
       "</div>"
      ],
      "text/plain": [
       "                                                Text label  label_num\n",
       "0   Top Trump Surrogate BRUTALLY Stabs Him In The...  Fake          0\n",
       "1  U.S. conservative leader optimistic of common ...  Real          1\n",
       "2  Trump proposes U.S. tax overhaul, stirs concer...  Real          1\n",
       "3   Court Forces Ohio To Allow Millions Of Illega...  Fake          0\n",
       "4  Democrats say Trump agrees to work on immigrat...  Real          1"
      ]
     },
     "execution_count": 8,
     "metadata": {},
     "output_type": "execute_result"
    }
   ],
   "source": [
    "df[\"label_num\"] = df.label.map({\n",
    "    \"Fake\":0,\n",
    "    \"Real\":1\n",
    "})\n",
    "df.head()"
   ]
  },
  {
   "cell_type": "code",
   "execution_count": 16,
   "id": "9b130709",
   "metadata": {},
   "outputs": [],
   "source": [
    "import spacy\n",
    "nlp = spacy.load(\"en_core_web_lg\")\n",
    "\n",
    "def preprocess_and_vectorize(text):\n",
    "    doc = nlp(text)\n",
    "    \n",
    "    filtered_tokens = []\n",
    "    for token in doc:\n",
    "        if token.is_punct or token.is_stop:\n",
    "            continue\n",
    "        filtered_tokens.append(token.lemma_)\n",
    "    return wv.get_mean_vector(filtered_tokens)"
   ]
  },
  {
   "cell_type": "code",
   "execution_count": 17,
   "id": "8333f38c",
   "metadata": {},
   "outputs": [
    {
     "data": {
      "text/plain": [
       "array([ 0.00235079, -0.00284596, -0.03638233,  0.00413919, -0.10635224,\n",
       "        0.05758579,  0.13348952, -0.00689176,  0.05995331, -0.02875906,\n",
       "       -0.02279907, -0.06939262, -0.01549996,  0.03538099, -0.0873947 ,\n",
       "        0.10044542,  0.02490648,  0.11501945,  0.00442711, -0.07228819,\n",
       "       -0.04447255,  0.02785169,  0.03338735,  0.02222995,  0.07053161,\n",
       "        0.06723307,  0.03483712, -0.0873695 ,  0.04152397, -0.0969665 ,\n",
       "       -0.00914938,  0.00555944, -0.0277799 , -0.00701522,  0.05281431,\n",
       "       -0.01066206,  0.02466576,  0.02378148,  0.0279402 ,  0.05527755,\n",
       "        0.01359304, -0.01062085,  0.06734448, -0.03492254, -0.08421434,\n",
       "       -0.04324378, -0.03578918, -0.00817786, -0.02093195,  0.01856531,\n",
       "       -0.07064191,  0.05023994, -0.03036207, -0.0412168 , -0.00684169,\n",
       "        0.05189689, -0.04097777, -0.05789134,  0.044417  , -0.0470418 ,\n",
       "       -0.01475445,  0.01373999, -0.00459672,  0.00419459,  0.04307397,\n",
       "       -0.01500929, -0.08037488,  0.05358911, -0.0211829 , -0.00526253,\n",
       "        0.03918403,  0.04980108,  0.05149292, -0.02760597, -0.10414234,\n",
       "       -0.02358125,  0.01588048,  0.08794019,  0.02101067,  0.12986097,\n",
       "       -0.03165637,  0.04050155,  0.03682444,  0.040462  , -0.05560045,\n",
       "       -0.04289893, -0.0918161 ,  0.05959024,  0.00470191, -0.0232439 ,\n",
       "        0.00560733, -0.00577845, -0.06879626, -0.03633031, -0.02900399,\n",
       "       -0.04766011,  0.07934985,  0.00162647,  0.02277142,  0.02039685,\n",
       "       -0.04815039,  0.01239679, -0.00273225,  0.04066541,  0.01718738,\n",
       "        0.00625888, -0.01593183, -0.01934362,  0.05761226, -0.0331227 ,\n",
       "       -0.06559531, -0.05737359, -0.01415279,  0.00814293, -0.00914533,\n",
       "       -0.04018348,  0.06907931, -0.01761438, -0.04850446,  0.03578102,\n",
       "       -0.09473305,  0.0754801 , -0.0717351 ,  0.07410301, -0.01351144,\n",
       "       -0.06917487, -0.08305064,  0.02122197, -0.03204587, -0.03061295,\n",
       "        0.03981462, -0.09745683, -0.02837887,  0.01508353,  0.08710912,\n",
       "       -0.07773352,  0.02312475,  0.11828712,  0.02502898,  0.01062398,\n",
       "        0.02528481, -0.05621869, -0.01414752, -0.0054199 , -0.01355326,\n",
       "        0.00094675,  0.02235291, -0.01592062, -0.01313769, -0.08265737,\n",
       "       -0.01484838,  0.0081862 , -0.01607498,  0.00671422, -0.00992151,\n",
       "        0.01070912, -0.0982562 , -0.03244599, -0.10865653,  0.00107146,\n",
       "        0.06166647,  0.0420246 , -0.02478091, -0.06187486,  0.04542562,\n",
       "       -0.01792098,  0.02203037, -0.04716108,  0.05974475,  0.02451983,\n",
       "       -0.05880933,  0.00202552,  0.03811581, -0.00530442,  0.01021047,\n",
       "        0.00424089,  0.07840483,  0.00195731, -0.02595322, -0.01481547,\n",
       "       -0.00551981,  0.0238276 ,  0.12479315,  0.02065411, -0.0310494 ,\n",
       "       -0.00850888, -0.0311881 ,  0.00917857, -0.03004361,  0.0576644 ,\n",
       "       -0.04041921, -0.06032866,  0.04549592,  0.03322048, -0.01644383,\n",
       "       -0.00503511, -0.01896849,  0.01606871,  0.00400032, -0.06011828,\n",
       "        0.04199673,  0.00505777, -0.08229659, -0.01548028, -0.03333327,\n",
       "        0.00798658, -0.02941441, -0.02521159, -0.02466976, -0.03208973,\n",
       "       -0.0048754 ,  0.10096999, -0.00099747, -0.06560291, -0.09302893,\n",
       "       -0.02929383,  0.03191192, -0.06449024, -0.06151631, -0.03464489,\n",
       "       -0.00879403, -0.04896098, -0.05396915, -0.03790915, -0.00337401,\n",
       "       -0.11016175,  0.01955169,  0.00305599, -0.04357597, -0.0177894 ,\n",
       "       -0.00359144, -0.00470547,  0.05034078,  0.03830646,  0.03219876,\n",
       "        0.02305124,  0.00910473, -0.04350092, -0.02903038, -0.0315236 ,\n",
       "       -0.07043763,  0.03806581, -0.00331466,  0.0275654 , -0.10277379,\n",
       "        0.02215285,  0.02834682,  0.02572182, -0.01758924, -0.02523402,\n",
       "       -0.00754319,  0.0332179 ,  0.06108168,  0.0282419 , -0.02518045,\n",
       "       -0.0372708 , -0.02340444,  0.05284173, -0.02049535,  0.01781087,\n",
       "       -0.01642074, -0.00814359, -0.09242941,  0.02235497, -0.01418123,\n",
       "        0.04997897,  0.03673173, -0.03368299, -0.04099576, -0.01646286,\n",
       "       -0.00386522,  0.06183865,  0.10663132, -0.01943116, -0.03759148,\n",
       "       -0.07059436, -0.07094096, -0.08852433,  0.01143012, -0.06681544,\n",
       "        0.02912416, -0.04444458,  0.0345265 ,  0.00576102,  0.01349037,\n",
       "       -0.00558232, -0.04241272,  0.09029818,  0.05358769,  0.00822992,\n",
       "       -0.00130868,  0.01569558,  0.00255671, -0.00992117, -0.06574745,\n",
       "       -0.03867856, -0.03263403, -0.01895184,  0.07239452, -0.00496437],\n",
       "      dtype=float32)"
      ]
     },
     "execution_count": 17,
     "metadata": {},
     "output_type": "execute_result"
    }
   ],
   "source": [
    "preprocess_and_vectorize(\"don't worry if you don't understand\")"
   ]
  },
  {
   "cell_type": "code",
   "execution_count": 18,
   "id": "16bc0f04",
   "metadata": {},
   "outputs": [
    {
     "data": {
      "text/plain": [
       "array([ 0.00976562, -0.00561523, -0.08905029], dtype=float32)"
      ]
     },
     "execution_count": 18,
     "metadata": {},
     "output_type": "execute_result"
    }
   ],
   "source": [
    "wv.get_mean_vector([\"worry\",\"understand\"],pre_normalize=False)[:3]"
   ]
  },
  {
   "cell_type": "code",
   "execution_count": 19,
   "id": "a952b09f",
   "metadata": {},
   "outputs": [],
   "source": [
    "df['vector'] = df['Text'].apply(lambda text:preprocess_and_vectorize(text))"
   ]
  },
  {
   "cell_type": "code",
   "execution_count": 20,
   "id": "2d228d3a",
   "metadata": {},
   "outputs": [
    {
     "data": {
      "text/html": [
       "<div>\n",
       "<style scoped>\n",
       "    .dataframe tbody tr th:only-of-type {\n",
       "        vertical-align: middle;\n",
       "    }\n",
       "\n",
       "    .dataframe tbody tr th {\n",
       "        vertical-align: top;\n",
       "    }\n",
       "\n",
       "    .dataframe thead th {\n",
       "        text-align: right;\n",
       "    }\n",
       "</style>\n",
       "<table border=\"1\" class=\"dataframe\">\n",
       "  <thead>\n",
       "    <tr style=\"text-align: right;\">\n",
       "      <th></th>\n",
       "      <th>Text</th>\n",
       "      <th>label</th>\n",
       "      <th>label_num</th>\n",
       "      <th>vector</th>\n",
       "    </tr>\n",
       "  </thead>\n",
       "  <tbody>\n",
       "    <tr>\n",
       "      <th>0</th>\n",
       "      <td>Top Trump Surrogate BRUTALLY Stabs Him In The...</td>\n",
       "      <td>Fake</td>\n",
       "      <td>0</td>\n",
       "      <td>[0.008657642, 0.019024342, -0.011917442, 0.032...</td>\n",
       "    </tr>\n",
       "    <tr>\n",
       "      <th>1</th>\n",
       "      <td>U.S. conservative leader optimistic of common ...</td>\n",
       "      <td>Real</td>\n",
       "      <td>1</td>\n",
       "      <td>[0.010864096, 0.007960429, 0.0011915653, 0.014...</td>\n",
       "    </tr>\n",
       "    <tr>\n",
       "      <th>2</th>\n",
       "      <td>Trump proposes U.S. tax overhaul, stirs concer...</td>\n",
       "      <td>Real</td>\n",
       "      <td>1</td>\n",
       "      <td>[0.018134918, 0.0062743523, -0.005872244, 0.03...</td>\n",
       "    </tr>\n",
       "    <tr>\n",
       "      <th>3</th>\n",
       "      <td>Court Forces Ohio To Allow Millions Of Illega...</td>\n",
       "      <td>Fake</td>\n",
       "      <td>0</td>\n",
       "      <td>[0.01255197, 0.012613623, 5.9780963e-05, 0.021...</td>\n",
       "    </tr>\n",
       "    <tr>\n",
       "      <th>4</th>\n",
       "      <td>Democrats say Trump agrees to work on immigrat...</td>\n",
       "      <td>Real</td>\n",
       "      <td>1</td>\n",
       "      <td>[-0.0019059887, 0.011889367, 0.0035395357, 0.0...</td>\n",
       "    </tr>\n",
       "  </tbody>\n",
       "</table>\n",
       "</div>"
      ],
      "text/plain": [
       "                                                Text label  label_num  \\\n",
       "0   Top Trump Surrogate BRUTALLY Stabs Him In The...  Fake          0   \n",
       "1  U.S. conservative leader optimistic of common ...  Real          1   \n",
       "2  Trump proposes U.S. tax overhaul, stirs concer...  Real          1   \n",
       "3   Court Forces Ohio To Allow Millions Of Illega...  Fake          0   \n",
       "4  Democrats say Trump agrees to work on immigrat...  Real          1   \n",
       "\n",
       "                                              vector  \n",
       "0  [0.008657642, 0.019024342, -0.011917442, 0.032...  \n",
       "1  [0.010864096, 0.007960429, 0.0011915653, 0.014...  \n",
       "2  [0.018134918, 0.0062743523, -0.005872244, 0.03...  \n",
       "3  [0.01255197, 0.012613623, 5.9780963e-05, 0.021...  \n",
       "4  [-0.0019059887, 0.011889367, 0.0035395357, 0.0...  "
      ]
     },
     "execution_count": 20,
     "metadata": {},
     "output_type": "execute_result"
    }
   ],
   "source": [
    "df.head()"
   ]
  },
  {
   "cell_type": "markdown",
   "id": "6bc1f64e",
   "metadata": {},
   "source": [
    "**Train-Test Split**"
   ]
  },
  {
   "cell_type": "code",
   "execution_count": 23,
   "id": "09342ff3",
   "metadata": {},
   "outputs": [],
   "source": [
    "from sklearn.model_selection import train_test_split\n",
    "\n",
    "X_train,X_test,y_train,y_test = train_test_split(\n",
    "    df.vector.values,\n",
    "    df.label_num,\n",
    "    test_size=0.2,\n",
    "    random_state=2022,\n",
    "    stratify=df.label_num\n",
    ")\n"
   ]
  },
  {
   "cell_type": "markdown",
   "id": "8ea1d8a4",
   "metadata": {},
   "source": [
    "**Reshaping the X_train and X_test so as to fit for models**"
   ]
  },
  {
   "cell_type": "code",
   "execution_count": 24,
   "id": "6d6f840b",
   "metadata": {},
   "outputs": [
    {
     "name": "stdout",
     "output_type": "stream",
     "text": [
      "Shape of X_train before reshaping: (7920,)\n",
      "Shape of X_test before reshaping: (1980,)\n",
      "Shape of X_train after reshaping: (7920, 300)\n",
      "Shape of X_test after reshaping: (1980, 300)\n"
     ]
    }
   ],
   "source": [
    "print(\"Shape of X_train before reshaping:\",X_train.shape)\n",
    "print(\"Shape of X_test before reshaping:\",X_test.shape)\n",
    "\n",
    "X_train_2d = np.stack(X_train)\n",
    "X_test_2d = np.stack(X_test)\n",
    "\n",
    "print(\"Shape of X_train after reshaping:\",X_train_2d.shape)\n",
    "print(\"Shape of X_test after reshaping:\",X_test_2d.shape)"
   ]
  },
  {
   "cell_type": "markdown",
   "id": "fb6d959e",
   "metadata": {},
   "source": [
    "**Train Machine Learning Model**"
   ]
  },
  {
   "cell_type": "markdown",
   "id": "09209c84",
   "metadata": {},
   "source": [
    "I tried Random forest, decision tree, Naive bayes etc classifiers as well but gradient boosting gave the best result\n"
   ]
  },
  {
   "cell_type": "code",
   "execution_count": 26,
   "id": "816c13e4",
   "metadata": {},
   "outputs": [
    {
     "name": "stdout",
     "output_type": "stream",
     "text": [
      "              precision    recall  f1-score   support\n",
      "\n",
      "           0       0.99      0.97      0.98      1000\n",
      "           1       0.97      0.99      0.98       980\n",
      "\n",
      "    accuracy                           0.98      1980\n",
      "   macro avg       0.98      0.98      0.98      1980\n",
      "weighted avg       0.98      0.98      0.98      1980\n",
      "\n"
     ]
    }
   ],
   "source": [
    "from sklearn.ensemble import GradientBoostingClassifier\n",
    "from sklearn.metrics import classification_report\n",
    "\n",
    "#1. Creating a GradientBoosting model object\n",
    "clf = GradientBoostingClassifier()\n",
    "\n",
    "#2. Fit with all_train_embedding and y_train\n",
    "clf.fit(X_train_2d,y_train)\n",
    "\n",
    "#3. Get the predictions for all_test_embeddings and store it in y_pred\n",
    "y_pred = clf.predict(X_test_2d)\n",
    "\n",
    "#4. Print the classification report\n",
    "print(classification_report(y_test,y_pred))"
   ]
  },
  {
   "cell_type": "markdown",
   "id": "d88a2510",
   "metadata": {},
   "source": [
    "**Make some Predictions**"
   ]
  },
  {
   "cell_type": "code",
   "execution_count": 28,
   "id": "79f0a31c",
   "metadata": {},
   "outputs": [
    {
     "data": {
      "text/plain": [
       "array([1, 1], dtype=int64)"
      ]
     },
     "execution_count": 28,
     "metadata": {},
     "output_type": "execute_result"
    }
   ],
   "source": [
    "test_news=[\n",
    "    \"Michigan governor denies misleading U.S> House on Flint water(Reuters)\",\n",
    "    \"Senators grill U.S. education secretary on proposal to slash budget WASHINGTON (Reuters) - U.S. Education Secretary Betsy DeVos faced hostile questions from a Senate committee on Tuesday as she tried to win lawmakers over to President Donald Trumpâ€™s proposal to slash her departmentâ€™s funding by 13 percent. DeVos, a Republican who narrowly won Senate approval for her post in February after strident opposition from Democrats and a few fellow party members, testified before the Senate appropriations subcommittee on education about the proposed budget Trump submitted to Congress last month. Trumpâ€™s plan to cut $9 billion from the Education Departmentâ€™s budget would â€œimprove educational opportunitiesâ€ and shift the federal role in education, DeVos told the panel. â€œI understand those figures are alarming for many,â€ she said. â€œHowever, this budget refocuses the department on supporting states and school districts in their efforts to provide high-quality education to all our students.â€ Democrats took turns asking DeVos about the bigger budget line-items and talking about students who they say could be hurt by large spending cuts. The most pointed exchanges were on whether private schools that receive federal funds would have to agree not to discriminate against students. DeVos would only repeat that schools taking federal money must abide by U.S. law. But Senator Jeff Merkley and his fellow Democrats said she was refusing to answer the question because federal law is unclear in many areas of possible discrimination, such as the rights of transgendered people. Lawmakers are expected to alter Trumpâ€™s proposed budget before voting on it.  The subcommitteeâ€™s chair, conservative Republican Roy Blunt, said he believed Congress would not approve the budget as proposed. â€œSuch a significant cut to the departmentâ€™s budget is likely untenable,â€ Blunt said, pressing specifically to preserve funds for technical programs, work-study financial aid and the Special Olympics. Civil rights groups and Democrats say the budget would send public dollars to private companies, disband after-school care, hurt schools in poor neighborhoods, shrink the ranks of teachers, and make it harder for many to afford college.  DeVos is currently working on major transformations in student loans. The budget suggests changing income-based repayment plans and ending loan forgiveness for workers in the public sector, which DeVos said would clear up confusion around the loans. With the stated aim of giving parents more choices for their childrenâ€™s education, DeVos and Republicans support charter schools, which are publicly funded but operate independently, frequently by corporations, as well as subsidies to help pay private-school tuition. Many Republicans on the panel applauded the budgetâ€™s proposal to boost such â€œschool choiceâ€ programs. But the subcommitteeâ€™s senior Democrat, Patty Murray, said the cuts â€œhighlight the ways that the policies and priorities you and President Trump are pushing would hurt students, hurt communities, and represent a clear broken promise to workers and the middle class.â€\",\n",
    "    \n",
    "]\n",
    "test_news_vectors = [preprocess_and_vectorize(n) for n in test_news]\n",
    "clf.predict(test_news_vectors)"
   ]
  },
  {
   "cell_type": "markdown",
   "id": "d9578d4d",
   "metadata": {},
   "source": [
    "**Confusion matrix for Best Model**\n",
    "\n",
    "\n"
   ]
  },
  {
   "cell_type": "code",
   "execution_count": 31,
   "id": "22633367",
   "metadata": {},
   "outputs": [
    {
     "data": {
      "text/plain": [
       "Text(95.72222222222221, 0.5, 'Truth')"
      ]
     },
     "execution_count": 31,
     "metadata": {},
     "output_type": "execute_result"
    },
    {
     "data": {
      "image/png": "[encoded data removed]",
      "text/plain": [
       "<Figure size 1000x700 with 2 Axes>"
      ]
     },
     "metadata": {},
     "output_type": "display_data"
    }
   ],
   "source": [
    "from sklearn.metrics import confusion_matrix\n",
    "cm = confusion_matrix(y_test, y_pred)\n",
    "cm\n",
    "\n",
    "from matplotlib import pyplot as plt\n",
    "import seaborn as sn\n",
    "plt.figure(figsize = (10,7))\n",
    "sn.heatmap(cm, annot=True, fmt='d')\n",
    "plt.xlabel('Prediction')\n",
    "plt.ylabel('Truth')\n"
   ]
  },
  {
   "cell_type": "code",
   "execution_count": null,
   "id": "12f4d402",
   "metadata": {},
   "outputs": [],
   "source": []
  }
 ],
 "metadata": {
  "kernelspec": {
   "display_name": "Python 3 (ipykernel)",
   "language": "python",
   "name": "python3"
  },
  "language_info": {
   "codemirror_mode": {
    "name": "ipython",
    "version": 3
   },
   "file_extension": ".py",
   "mimetype": "text/x-python",
   "name": "python",
   "nbconvert_exporter": "python",
   "pygments_lexer": "ipython3",
   "version": "3.10.2"
  }
 },
 "nbformat": 4,
 "nbformat_minor": 5
}
